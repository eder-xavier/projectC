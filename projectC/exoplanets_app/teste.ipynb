{
 "cells": [
  {
   "cell_type": "code",
   "execution_count": 1,
   "metadata": {},
   "outputs": [
    {
     "name": "stderr",
     "output_type": "stream",
     "text": [
      "/usr/lib/python3/dist-packages/scipy/__init__.py:146: UserWarning: A NumPy version >=1.17.3 and <1.25.0 is required for this version of SciPy (detected version 1.26.3\n",
      "  warnings.warn(f\"A NumPy version >={np_minversion} and <{np_maxversion}\"\n",
      "/home/eder/.local/lib/python3.10/site-packages/astropy/io/fits/fitsrec.py:695: UserWarning: Field 12 has a repeat count of 0 in its format code, indicating an empty field.\n",
      "  warnings.warn(\n",
      "/home/eder/.local/lib/python3.10/site-packages/astropy/io/fits/fitsrec.py:695: UserWarning: Field 12 has a repeat count of 0 in its format code, indicating an empty field.\n",
      "  warnings.warn(\n",
      "/home/eder/.local/lib/python3.10/site-packages/astropy/io/fits/fitsrec.py:695: UserWarning: Field 12 has a repeat count of 0 in its format code, indicating an empty field.\n",
      "  warnings.warn(\n"
     ]
    },
    {
     "ename": "AttributeError",
     "evalue": "'TargetPixelFileCollection' object has no attribute 'to_lightcurve'",
     "output_type": "error",
     "traceback": [
      "\u001b[0;31m---------------------------------------------------------------------------\u001b[0m",
      "\u001b[0;31mAttributeError\u001b[0m                            Traceback (most recent call last)",
      "Cell \u001b[0;32mIn[1], line 7\u001b[0m\n\u001b[1;32m      5\u001b[0m kepler_id \u001b[38;5;241m=\u001b[39m \u001b[38;5;124m'\u001b[39m\u001b[38;5;124m10544976\u001b[39m\u001b[38;5;124m'\u001b[39m\n\u001b[1;32m      6\u001b[0m pixelfile \u001b[38;5;241m=\u001b[39m lk\u001b[38;5;241m.\u001b[39msearch_targetpixelfile(kepler_id, mission\u001b[38;5;241m=\u001b[39m\u001b[38;5;124m'\u001b[39m\u001b[38;5;124mKepler\u001b[39m\u001b[38;5;124m'\u001b[39m)\u001b[38;5;241m.\u001b[39mdownload_all()\n\u001b[0;32m----> 7\u001b[0m \u001b[43mpixelfile\u001b[49m\u001b[38;5;241;43m.\u001b[39;49m\u001b[43mto_lightcurve\u001b[49m(method\u001b[38;5;241m=\u001b[39m\u001b[38;5;124m\"\u001b[39m\u001b[38;5;124mpld\u001b[39m\u001b[38;5;124m\"\u001b[39m)\u001b[38;5;241m.\u001b[39mremove_outliers()\u001b[38;5;241m.\u001b[39mflatten()\n",
      "\u001b[0;31mAttributeError\u001b[0m: 'TargetPixelFileCollection' object has no attribute 'to_lightcurve'"
     ]
    }
   ],
   "source": [
    "import lightkurve as lk\n",
    "\n",
    "\n",
    "\n",
    "kepler_id = '10544976'\n",
    "pixelfile = lk.search_targetpixelfile(kepler_id, mission='Kepler').download_all()\n",
    "pixelfile.to_lightcurve(method=\"pld\").remove_outliers().flatten()\n"
   ]
  }
 ],
 "metadata": {
  "kernelspec": {
   "display_name": "Python 3",
   "language": "python",
   "name": "python3"
  },
  "language_info": {
   "codemirror_mode": {
    "name": "ipython",
    "version": 3
   },
   "file_extension": ".py",
   "mimetype": "text/x-python",
   "name": "python",
   "nbconvert_exporter": "python",
   "pygments_lexer": "ipython3",
   "version": "3.10.12"
  }
 },
 "nbformat": 4,
 "nbformat_minor": 2
}
